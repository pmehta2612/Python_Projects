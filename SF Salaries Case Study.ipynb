{
 "cells": [
  {
   "cell_type": "markdown",
   "id": "89956996-b3ad-4ff9-adff-25fb1ce6e19f",
   "metadata": {},
   "source": [
    "# SF Salaries"
   ]
  },
  {
   "cell_type": "code",
   "execution_count": 1,
   "id": "34f0cbf5-a492-4b98-9114-ff5eac699e09",
   "metadata": {},
   "outputs": [],
   "source": [
    "# Importing libraries\n",
    "import pandas as pd"
   ]
  },
  {
   "cell_type": "code",
   "execution_count": 2,
   "id": "8130c2b5-4024-458a-bab2-7051f16c438c",
   "metadata": {},
   "outputs": [],
   "source": [
    "# Importing Dataset\n",
    "df = pd.read_csv(r\"C:\\Users\\Hp Laptop\\Documents\\Prachi\\Python Case Studies\\Case Study - 2\\Salaries.csv\",low_memory = False)"
   ]
  },
  {
   "cell_type": "code",
   "execution_count": 3,
   "id": "ce3e2fc0-4b8f-4003-a136-5e7da85ae473",
   "metadata": {},
   "outputs": [
    {
     "data": {
      "text/html": [
       "<div>\n",
       "<style scoped>\n",
       "    .dataframe tbody tr th:only-of-type {\n",
       "        vertical-align: middle;\n",
       "    }\n",
       "\n",
       "    .dataframe tbody tr th {\n",
       "        vertical-align: top;\n",
       "    }\n",
       "\n",
       "    .dataframe thead th {\n",
       "        text-align: right;\n",
       "    }\n",
       "</style>\n",
       "<table border=\"1\" class=\"dataframe\">\n",
       "  <thead>\n",
       "    <tr style=\"text-align: right;\">\n",
       "      <th></th>\n",
       "      <th>Id</th>\n",
       "      <th>EmployeeName</th>\n",
       "      <th>JobTitle</th>\n",
       "      <th>BasePay</th>\n",
       "      <th>OvertimePay</th>\n",
       "      <th>OtherPay</th>\n",
       "      <th>Benefits</th>\n",
       "      <th>TotalPay</th>\n",
       "      <th>TotalPayBenefits</th>\n",
       "      <th>Year</th>\n",
       "      <th>Notes</th>\n",
       "      <th>Agency</th>\n",
       "      <th>Status</th>\n",
       "    </tr>\n",
       "  </thead>\n",
       "  <tbody>\n",
       "    <tr>\n",
       "      <th>0</th>\n",
       "      <td>1</td>\n",
       "      <td>NATHANIEL FORD</td>\n",
       "      <td>GENERAL MANAGER-METROPOLITAN TRANSIT AUTHORITY</td>\n",
       "      <td>167411.18</td>\n",
       "      <td>0.0</td>\n",
       "      <td>400184.25</td>\n",
       "      <td>NaN</td>\n",
       "      <td>567595.43</td>\n",
       "      <td>567595.43</td>\n",
       "      <td>2011</td>\n",
       "      <td>NaN</td>\n",
       "      <td>San Francisco</td>\n",
       "      <td>NaN</td>\n",
       "    </tr>\n",
       "    <tr>\n",
       "      <th>1</th>\n",
       "      <td>2</td>\n",
       "      <td>GARY JIMENEZ</td>\n",
       "      <td>CAPTAIN III (POLICE DEPARTMENT)</td>\n",
       "      <td>155966.02</td>\n",
       "      <td>245131.88</td>\n",
       "      <td>137811.38</td>\n",
       "      <td>NaN</td>\n",
       "      <td>538909.28</td>\n",
       "      <td>538909.28</td>\n",
       "      <td>2011</td>\n",
       "      <td>NaN</td>\n",
       "      <td>San Francisco</td>\n",
       "      <td>NaN</td>\n",
       "    </tr>\n",
       "    <tr>\n",
       "      <th>2</th>\n",
       "      <td>3</td>\n",
       "      <td>ALBERT PARDINI</td>\n",
       "      <td>CAPTAIN III (POLICE DEPARTMENT)</td>\n",
       "      <td>212739.13</td>\n",
       "      <td>106088.18</td>\n",
       "      <td>16452.6</td>\n",
       "      <td>NaN</td>\n",
       "      <td>335279.91</td>\n",
       "      <td>335279.91</td>\n",
       "      <td>2011</td>\n",
       "      <td>NaN</td>\n",
       "      <td>San Francisco</td>\n",
       "      <td>NaN</td>\n",
       "    </tr>\n",
       "    <tr>\n",
       "      <th>3</th>\n",
       "      <td>4</td>\n",
       "      <td>CHRISTOPHER CHONG</td>\n",
       "      <td>WIRE ROPE CABLE MAINTENANCE MECHANIC</td>\n",
       "      <td>77916.0</td>\n",
       "      <td>56120.71</td>\n",
       "      <td>198306.9</td>\n",
       "      <td>NaN</td>\n",
       "      <td>332343.61</td>\n",
       "      <td>332343.61</td>\n",
       "      <td>2011</td>\n",
       "      <td>NaN</td>\n",
       "      <td>San Francisco</td>\n",
       "      <td>NaN</td>\n",
       "    </tr>\n",
       "    <tr>\n",
       "      <th>4</th>\n",
       "      <td>5</td>\n",
       "      <td>PATRICK GARDNER</td>\n",
       "      <td>DEPUTY CHIEF OF DEPARTMENT,(FIRE DEPARTMENT)</td>\n",
       "      <td>134401.6</td>\n",
       "      <td>9737.0</td>\n",
       "      <td>182234.59</td>\n",
       "      <td>NaN</td>\n",
       "      <td>326373.19</td>\n",
       "      <td>326373.19</td>\n",
       "      <td>2011</td>\n",
       "      <td>NaN</td>\n",
       "      <td>San Francisco</td>\n",
       "      <td>NaN</td>\n",
       "    </tr>\n",
       "    <tr>\n",
       "      <th>5</th>\n",
       "      <td>6</td>\n",
       "      <td>DAVID SULLIVAN</td>\n",
       "      <td>ASSISTANT DEPUTY CHIEF II</td>\n",
       "      <td>118602.0</td>\n",
       "      <td>8601.0</td>\n",
       "      <td>189082.74</td>\n",
       "      <td>NaN</td>\n",
       "      <td>316285.74</td>\n",
       "      <td>316285.74</td>\n",
       "      <td>2011</td>\n",
       "      <td>NaN</td>\n",
       "      <td>San Francisco</td>\n",
       "      <td>NaN</td>\n",
       "    </tr>\n",
       "    <tr>\n",
       "      <th>6</th>\n",
       "      <td>7</td>\n",
       "      <td>ALSON LEE</td>\n",
       "      <td>BATTALION CHIEF, (FIRE DEPARTMENT)</td>\n",
       "      <td>92492.01</td>\n",
       "      <td>89062.9</td>\n",
       "      <td>134426.14</td>\n",
       "      <td>NaN</td>\n",
       "      <td>315981.05</td>\n",
       "      <td>315981.05</td>\n",
       "      <td>2011</td>\n",
       "      <td>NaN</td>\n",
       "      <td>San Francisco</td>\n",
       "      <td>NaN</td>\n",
       "    </tr>\n",
       "    <tr>\n",
       "      <th>7</th>\n",
       "      <td>8</td>\n",
       "      <td>DAVID KUSHNER</td>\n",
       "      <td>DEPUTY DIRECTOR OF INVESTMENTS</td>\n",
       "      <td>256576.96</td>\n",
       "      <td>0.0</td>\n",
       "      <td>51322.5</td>\n",
       "      <td>NaN</td>\n",
       "      <td>307899.46</td>\n",
       "      <td>307899.46</td>\n",
       "      <td>2011</td>\n",
       "      <td>NaN</td>\n",
       "      <td>San Francisco</td>\n",
       "      <td>NaN</td>\n",
       "    </tr>\n",
       "    <tr>\n",
       "      <th>8</th>\n",
       "      <td>9</td>\n",
       "      <td>MICHAEL MORRIS</td>\n",
       "      <td>BATTALION CHIEF, (FIRE DEPARTMENT)</td>\n",
       "      <td>176932.64</td>\n",
       "      <td>86362.68</td>\n",
       "      <td>40132.23</td>\n",
       "      <td>NaN</td>\n",
       "      <td>303427.55</td>\n",
       "      <td>303427.55</td>\n",
       "      <td>2011</td>\n",
       "      <td>NaN</td>\n",
       "      <td>San Francisco</td>\n",
       "      <td>NaN</td>\n",
       "    </tr>\n",
       "    <tr>\n",
       "      <th>9</th>\n",
       "      <td>10</td>\n",
       "      <td>JOANNE HAYES-WHITE</td>\n",
       "      <td>CHIEF OF DEPARTMENT, (FIRE DEPARTMENT)</td>\n",
       "      <td>285262.0</td>\n",
       "      <td>0.0</td>\n",
       "      <td>17115.73</td>\n",
       "      <td>NaN</td>\n",
       "      <td>302377.73</td>\n",
       "      <td>302377.73</td>\n",
       "      <td>2011</td>\n",
       "      <td>NaN</td>\n",
       "      <td>San Francisco</td>\n",
       "      <td>NaN</td>\n",
       "    </tr>\n",
       "  </tbody>\n",
       "</table>\n",
       "</div>"
      ],
      "text/plain": [
       "   Id        EmployeeName                                        JobTitle  \\\n",
       "0   1      NATHANIEL FORD  GENERAL MANAGER-METROPOLITAN TRANSIT AUTHORITY   \n",
       "1   2        GARY JIMENEZ                 CAPTAIN III (POLICE DEPARTMENT)   \n",
       "2   3      ALBERT PARDINI                 CAPTAIN III (POLICE DEPARTMENT)   \n",
       "3   4   CHRISTOPHER CHONG            WIRE ROPE CABLE MAINTENANCE MECHANIC   \n",
       "4   5     PATRICK GARDNER    DEPUTY CHIEF OF DEPARTMENT,(FIRE DEPARTMENT)   \n",
       "5   6      DAVID SULLIVAN                       ASSISTANT DEPUTY CHIEF II   \n",
       "6   7           ALSON LEE              BATTALION CHIEF, (FIRE DEPARTMENT)   \n",
       "7   8       DAVID KUSHNER                  DEPUTY DIRECTOR OF INVESTMENTS   \n",
       "8   9      MICHAEL MORRIS              BATTALION CHIEF, (FIRE DEPARTMENT)   \n",
       "9  10  JOANNE HAYES-WHITE          CHIEF OF DEPARTMENT, (FIRE DEPARTMENT)   \n",
       "\n",
       "     BasePay OvertimePay   OtherPay Benefits   TotalPay  TotalPayBenefits  \\\n",
       "0  167411.18         0.0  400184.25      NaN  567595.43         567595.43   \n",
       "1  155966.02   245131.88  137811.38      NaN  538909.28         538909.28   \n",
       "2  212739.13   106088.18    16452.6      NaN  335279.91         335279.91   \n",
       "3    77916.0    56120.71   198306.9      NaN  332343.61         332343.61   \n",
       "4   134401.6      9737.0  182234.59      NaN  326373.19         326373.19   \n",
       "5   118602.0      8601.0  189082.74      NaN  316285.74         316285.74   \n",
       "6   92492.01     89062.9  134426.14      NaN  315981.05         315981.05   \n",
       "7  256576.96         0.0    51322.5      NaN  307899.46         307899.46   \n",
       "8  176932.64    86362.68   40132.23      NaN  303427.55         303427.55   \n",
       "9   285262.0         0.0   17115.73      NaN  302377.73         302377.73   \n",
       "\n",
       "   Year  Notes         Agency Status  \n",
       "0  2011    NaN  San Francisco    NaN  \n",
       "1  2011    NaN  San Francisco    NaN  \n",
       "2  2011    NaN  San Francisco    NaN  \n",
       "3  2011    NaN  San Francisco    NaN  \n",
       "4  2011    NaN  San Francisco    NaN  \n",
       "5  2011    NaN  San Francisco    NaN  \n",
       "6  2011    NaN  San Francisco    NaN  \n",
       "7  2011    NaN  San Francisco    NaN  \n",
       "8  2011    NaN  San Francisco    NaN  \n",
       "9  2011    NaN  San Francisco    NaN  "
      ]
     },
     "execution_count": 3,
     "metadata": {},
     "output_type": "execute_result"
    }
   ],
   "source": [
    "# 1. Display 10 rows of the dataset\n",
    "df.head(10)"
   ]
  },
  {
   "cell_type": "code",
   "execution_count": 4,
   "id": "3944ac01-92d7-420f-9286-a44d84717f57",
   "metadata": {},
   "outputs": [
    {
     "data": {
      "text/html": [
       "<div>\n",
       "<style scoped>\n",
       "    .dataframe tbody tr th:only-of-type {\n",
       "        vertical-align: middle;\n",
       "    }\n",
       "\n",
       "    .dataframe tbody tr th {\n",
       "        vertical-align: top;\n",
       "    }\n",
       "\n",
       "    .dataframe thead th {\n",
       "        text-align: right;\n",
       "    }\n",
       "</style>\n",
       "<table border=\"1\" class=\"dataframe\">\n",
       "  <thead>\n",
       "    <tr style=\"text-align: right;\">\n",
       "      <th></th>\n",
       "      <th>Id</th>\n",
       "      <th>EmployeeName</th>\n",
       "      <th>JobTitle</th>\n",
       "      <th>BasePay</th>\n",
       "      <th>OvertimePay</th>\n",
       "      <th>OtherPay</th>\n",
       "      <th>Benefits</th>\n",
       "      <th>TotalPay</th>\n",
       "      <th>TotalPayBenefits</th>\n",
       "      <th>Year</th>\n",
       "      <th>Notes</th>\n",
       "      <th>Agency</th>\n",
       "      <th>Status</th>\n",
       "    </tr>\n",
       "  </thead>\n",
       "  <tbody>\n",
       "    <tr>\n",
       "      <th>148644</th>\n",
       "      <td>148645</td>\n",
       "      <td>Randy D Winn</td>\n",
       "      <td>Stationary Eng, Sewage Plant</td>\n",
       "      <td>0.00</td>\n",
       "      <td>0.00</td>\n",
       "      <td>0.00</td>\n",
       "      <td>0.00</td>\n",
       "      <td>0.00</td>\n",
       "      <td>0.00</td>\n",
       "      <td>2014</td>\n",
       "      <td>NaN</td>\n",
       "      <td>San Francisco</td>\n",
       "      <td>PT</td>\n",
       "    </tr>\n",
       "    <tr>\n",
       "      <th>148645</th>\n",
       "      <td>148646</td>\n",
       "      <td>Carolyn A Wilson</td>\n",
       "      <td>Human Services Technician</td>\n",
       "      <td>0.00</td>\n",
       "      <td>0.00</td>\n",
       "      <td>0.00</td>\n",
       "      <td>0.00</td>\n",
       "      <td>0.00</td>\n",
       "      <td>0.00</td>\n",
       "      <td>2014</td>\n",
       "      <td>NaN</td>\n",
       "      <td>San Francisco</td>\n",
       "      <td>PT</td>\n",
       "    </tr>\n",
       "    <tr>\n",
       "      <th>148646</th>\n",
       "      <td>148647</td>\n",
       "      <td>Not provided</td>\n",
       "      <td>Not provided</td>\n",
       "      <td>Not Provided</td>\n",
       "      <td>Not Provided</td>\n",
       "      <td>Not Provided</td>\n",
       "      <td>Not Provided</td>\n",
       "      <td>0.00</td>\n",
       "      <td>0.00</td>\n",
       "      <td>2014</td>\n",
       "      <td>NaN</td>\n",
       "      <td>San Francisco</td>\n",
       "      <td>NaN</td>\n",
       "    </tr>\n",
       "    <tr>\n",
       "      <th>148647</th>\n",
       "      <td>148648</td>\n",
       "      <td>Joann Anderson</td>\n",
       "      <td>Communications Dispatcher 2</td>\n",
       "      <td>0.00</td>\n",
       "      <td>0.00</td>\n",
       "      <td>0.00</td>\n",
       "      <td>0.00</td>\n",
       "      <td>0.00</td>\n",
       "      <td>0.00</td>\n",
       "      <td>2014</td>\n",
       "      <td>NaN</td>\n",
       "      <td>San Francisco</td>\n",
       "      <td>PT</td>\n",
       "    </tr>\n",
       "    <tr>\n",
       "      <th>148648</th>\n",
       "      <td>148649</td>\n",
       "      <td>Leon Walker</td>\n",
       "      <td>Custodian</td>\n",
       "      <td>0.00</td>\n",
       "      <td>0.00</td>\n",
       "      <td>0.00</td>\n",
       "      <td>0.00</td>\n",
       "      <td>0.00</td>\n",
       "      <td>0.00</td>\n",
       "      <td>2014</td>\n",
       "      <td>NaN</td>\n",
       "      <td>San Francisco</td>\n",
       "      <td>PT</td>\n",
       "    </tr>\n",
       "    <tr>\n",
       "      <th>148649</th>\n",
       "      <td>148650</td>\n",
       "      <td>Roy I Tillery</td>\n",
       "      <td>Custodian</td>\n",
       "      <td>0.00</td>\n",
       "      <td>0.00</td>\n",
       "      <td>0.00</td>\n",
       "      <td>0.00</td>\n",
       "      <td>0.00</td>\n",
       "      <td>0.00</td>\n",
       "      <td>2014</td>\n",
       "      <td>NaN</td>\n",
       "      <td>San Francisco</td>\n",
       "      <td>PT</td>\n",
       "    </tr>\n",
       "    <tr>\n",
       "      <th>148650</th>\n",
       "      <td>148651</td>\n",
       "      <td>Not provided</td>\n",
       "      <td>Not provided</td>\n",
       "      <td>Not Provided</td>\n",
       "      <td>Not Provided</td>\n",
       "      <td>Not Provided</td>\n",
       "      <td>Not Provided</td>\n",
       "      <td>0.00</td>\n",
       "      <td>0.00</td>\n",
       "      <td>2014</td>\n",
       "      <td>NaN</td>\n",
       "      <td>San Francisco</td>\n",
       "      <td>NaN</td>\n",
       "    </tr>\n",
       "    <tr>\n",
       "      <th>148651</th>\n",
       "      <td>148652</td>\n",
       "      <td>Not provided</td>\n",
       "      <td>Not provided</td>\n",
       "      <td>Not Provided</td>\n",
       "      <td>Not Provided</td>\n",
       "      <td>Not Provided</td>\n",
       "      <td>Not Provided</td>\n",
       "      <td>0.00</td>\n",
       "      <td>0.00</td>\n",
       "      <td>2014</td>\n",
       "      <td>NaN</td>\n",
       "      <td>San Francisco</td>\n",
       "      <td>NaN</td>\n",
       "    </tr>\n",
       "    <tr>\n",
       "      <th>148652</th>\n",
       "      <td>148653</td>\n",
       "      <td>Not provided</td>\n",
       "      <td>Not provided</td>\n",
       "      <td>Not Provided</td>\n",
       "      <td>Not Provided</td>\n",
       "      <td>Not Provided</td>\n",
       "      <td>Not Provided</td>\n",
       "      <td>0.00</td>\n",
       "      <td>0.00</td>\n",
       "      <td>2014</td>\n",
       "      <td>NaN</td>\n",
       "      <td>San Francisco</td>\n",
       "      <td>NaN</td>\n",
       "    </tr>\n",
       "    <tr>\n",
       "      <th>148653</th>\n",
       "      <td>148654</td>\n",
       "      <td>Joe Lopez</td>\n",
       "      <td>Counselor, Log Cabin Ranch</td>\n",
       "      <td>0.00</td>\n",
       "      <td>0.00</td>\n",
       "      <td>-618.13</td>\n",
       "      <td>0.00</td>\n",
       "      <td>-618.13</td>\n",
       "      <td>-618.13</td>\n",
       "      <td>2014</td>\n",
       "      <td>NaN</td>\n",
       "      <td>San Francisco</td>\n",
       "      <td>PT</td>\n",
       "    </tr>\n",
       "  </tbody>\n",
       "</table>\n",
       "</div>"
      ],
      "text/plain": [
       "            Id      EmployeeName                      JobTitle       BasePay  \\\n",
       "148644  148645      Randy D Winn  Stationary Eng, Sewage Plant          0.00   \n",
       "148645  148646  Carolyn A Wilson     Human Services Technician          0.00   \n",
       "148646  148647      Not provided                  Not provided  Not Provided   \n",
       "148647  148648    Joann Anderson   Communications Dispatcher 2          0.00   \n",
       "148648  148649       Leon Walker                     Custodian          0.00   \n",
       "148649  148650     Roy I Tillery                     Custodian          0.00   \n",
       "148650  148651      Not provided                  Not provided  Not Provided   \n",
       "148651  148652      Not provided                  Not provided  Not Provided   \n",
       "148652  148653      Not provided                  Not provided  Not Provided   \n",
       "148653  148654         Joe Lopez    Counselor, Log Cabin Ranch          0.00   \n",
       "\n",
       "         OvertimePay      OtherPay      Benefits  TotalPay  TotalPayBenefits  \\\n",
       "148644          0.00          0.00          0.00      0.00              0.00   \n",
       "148645          0.00          0.00          0.00      0.00              0.00   \n",
       "148646  Not Provided  Not Provided  Not Provided      0.00              0.00   \n",
       "148647          0.00          0.00          0.00      0.00              0.00   \n",
       "148648          0.00          0.00          0.00      0.00              0.00   \n",
       "148649          0.00          0.00          0.00      0.00              0.00   \n",
       "148650  Not Provided  Not Provided  Not Provided      0.00              0.00   \n",
       "148651  Not Provided  Not Provided  Not Provided      0.00              0.00   \n",
       "148652  Not Provided  Not Provided  Not Provided      0.00              0.00   \n",
       "148653          0.00       -618.13          0.00   -618.13           -618.13   \n",
       "\n",
       "        Year  Notes         Agency Status  \n",
       "148644  2014    NaN  San Francisco     PT  \n",
       "148645  2014    NaN  San Francisco     PT  \n",
       "148646  2014    NaN  San Francisco    NaN  \n",
       "148647  2014    NaN  San Francisco     PT  \n",
       "148648  2014    NaN  San Francisco     PT  \n",
       "148649  2014    NaN  San Francisco     PT  \n",
       "148650  2014    NaN  San Francisco    NaN  \n",
       "148651  2014    NaN  San Francisco    NaN  \n",
       "148652  2014    NaN  San Francisco    NaN  \n",
       "148653  2014    NaN  San Francisco     PT  "
      ]
     },
     "execution_count": 4,
     "metadata": {},
     "output_type": "execute_result"
    }
   ],
   "source": [
    "# 2. Check last 10 rows of the dataset\n",
    "df.tail(10)"
   ]
  },
  {
   "cell_type": "code",
   "execution_count": 5,
   "id": "98b87e17-ee04-4dfe-8c16-511d948f93e5",
   "metadata": {},
   "outputs": [
    {
     "name": "stdout",
     "output_type": "stream",
     "text": [
      "Number of Rows =  148654\n",
      "Number of Columns =  13\n"
     ]
    }
   ],
   "source": [
    "# 3. Find shape of our dataset (Number of rows and columns)\n",
    "print(\"Number of Rows = \",df.shape[0])\n",
    "print(\"Number of Columns = \",df.shape[1])"
   ]
  },
  {
   "cell_type": "code",
   "execution_count": 6,
   "id": "3e22ec70-2f77-471a-b6fc-fd8f7926998e",
   "metadata": {},
   "outputs": [
    {
     "name": "stdout",
     "output_type": "stream",
     "text": [
      "<class 'pandas.core.frame.DataFrame'>\n",
      "RangeIndex: 148654 entries, 0 to 148653\n",
      "Data columns (total 13 columns):\n",
      " #   Column            Non-Null Count   Dtype  \n",
      "---  ------            --------------   -----  \n",
      " 0   Id                148654 non-null  int64  \n",
      " 1   EmployeeName      148654 non-null  object \n",
      " 2   JobTitle          148654 non-null  object \n",
      " 3   BasePay           148049 non-null  object \n",
      " 4   OvertimePay       148654 non-null  object \n",
      " 5   OtherPay          148654 non-null  object \n",
      " 6   Benefits          112495 non-null  object \n",
      " 7   TotalPay          148654 non-null  float64\n",
      " 8   TotalPayBenefits  148654 non-null  float64\n",
      " 9   Year              148654 non-null  int64  \n",
      " 10  Notes             0 non-null       float64\n",
      " 11  Agency            148654 non-null  object \n",
      " 12  Status            38119 non-null   object \n",
      "dtypes: float64(3), int64(2), object(8)\n",
      "memory usage: 14.7+ MB\n"
     ]
    }
   ],
   "source": [
    "# 4. Getting information about our dataset\n",
    "df.info()"
   ]
  },
  {
   "cell_type": "code",
   "execution_count": 7,
   "id": "58349b04-3125-4796-90f8-8c7ebffb8ad8",
   "metadata": {},
   "outputs": [
    {
     "data": {
      "text/plain": [
       "Id                       0\n",
       "EmployeeName             0\n",
       "JobTitle                 0\n",
       "BasePay                605\n",
       "OvertimePay              0\n",
       "OtherPay                 0\n",
       "Benefits             36159\n",
       "TotalPay                 0\n",
       "TotalPayBenefits         0\n",
       "Year                     0\n",
       "Notes               148654\n",
       "Agency                   0\n",
       "Status              110535\n",
       "dtype: int64"
      ]
     },
     "execution_count": 7,
     "metadata": {},
     "output_type": "execute_result"
    }
   ],
   "source": [
    "# 5. Check Null values in the dataset\n",
    "df.isnull().sum()"
   ]
  },
  {
   "cell_type": "code",
   "execution_count": 8,
   "id": "fe3d7f11-cd95-410e-8140-57fbd9887a86",
   "metadata": {},
   "outputs": [],
   "source": [
    "# 6. Drop ID, Notes, Agency and Status Columns\n",
    "df = df.drop(['Id','Notes','Agency','Status'], axis = 1)"
   ]
  },
  {
   "cell_type": "code",
   "execution_count": 9,
   "id": "e1e09a90-fd68-42c6-8493-4325fb9b530c",
   "metadata": {},
   "outputs": [
    {
     "data": {
      "text/html": [
       "<div>\n",
       "<style scoped>\n",
       "    .dataframe tbody tr th:only-of-type {\n",
       "        vertical-align: middle;\n",
       "    }\n",
       "\n",
       "    .dataframe tbody tr th {\n",
       "        vertical-align: top;\n",
       "    }\n",
       "\n",
       "    .dataframe thead th {\n",
       "        text-align: right;\n",
       "    }\n",
       "</style>\n",
       "<table border=\"1\" class=\"dataframe\">\n",
       "  <thead>\n",
       "    <tr style=\"text-align: right;\">\n",
       "      <th></th>\n",
       "      <th>EmployeeName</th>\n",
       "      <th>JobTitle</th>\n",
       "      <th>BasePay</th>\n",
       "      <th>OvertimePay</th>\n",
       "      <th>OtherPay</th>\n",
       "      <th>Benefits</th>\n",
       "      <th>TotalPay</th>\n",
       "      <th>TotalPayBenefits</th>\n",
       "      <th>Year</th>\n",
       "    </tr>\n",
       "  </thead>\n",
       "  <tbody>\n",
       "    <tr>\n",
       "      <th>count</th>\n",
       "      <td>148654</td>\n",
       "      <td>148654</td>\n",
       "      <td>148049</td>\n",
       "      <td>148654</td>\n",
       "      <td>148654</td>\n",
       "      <td>112495</td>\n",
       "      <td>148654.000000</td>\n",
       "      <td>148654.000000</td>\n",
       "      <td>148654.000000</td>\n",
       "    </tr>\n",
       "    <tr>\n",
       "      <th>unique</th>\n",
       "      <td>110811</td>\n",
       "      <td>2159</td>\n",
       "      <td>109724</td>\n",
       "      <td>66162</td>\n",
       "      <td>84243</td>\n",
       "      <td>98647</td>\n",
       "      <td>NaN</td>\n",
       "      <td>NaN</td>\n",
       "      <td>NaN</td>\n",
       "    </tr>\n",
       "    <tr>\n",
       "      <th>top</th>\n",
       "      <td>Kevin Lee</td>\n",
       "      <td>Transit Operator</td>\n",
       "      <td>0.0</td>\n",
       "      <td>0.0</td>\n",
       "      <td>0.0</td>\n",
       "      <td>0.0</td>\n",
       "      <td>NaN</td>\n",
       "      <td>NaN</td>\n",
       "      <td>NaN</td>\n",
       "    </tr>\n",
       "    <tr>\n",
       "      <th>freq</th>\n",
       "      <td>13</td>\n",
       "      <td>7036</td>\n",
       "      <td>872</td>\n",
       "      <td>57868</td>\n",
       "      <td>30068</td>\n",
       "      <td>1024</td>\n",
       "      <td>NaN</td>\n",
       "      <td>NaN</td>\n",
       "      <td>NaN</td>\n",
       "    </tr>\n",
       "    <tr>\n",
       "      <th>mean</th>\n",
       "      <td>NaN</td>\n",
       "      <td>NaN</td>\n",
       "      <td>NaN</td>\n",
       "      <td>NaN</td>\n",
       "      <td>NaN</td>\n",
       "      <td>NaN</td>\n",
       "      <td>74768.321972</td>\n",
       "      <td>93692.554811</td>\n",
       "      <td>2012.522643</td>\n",
       "    </tr>\n",
       "    <tr>\n",
       "      <th>std</th>\n",
       "      <td>NaN</td>\n",
       "      <td>NaN</td>\n",
       "      <td>NaN</td>\n",
       "      <td>NaN</td>\n",
       "      <td>NaN</td>\n",
       "      <td>NaN</td>\n",
       "      <td>50517.005274</td>\n",
       "      <td>62793.533483</td>\n",
       "      <td>1.117538</td>\n",
       "    </tr>\n",
       "    <tr>\n",
       "      <th>min</th>\n",
       "      <td>NaN</td>\n",
       "      <td>NaN</td>\n",
       "      <td>NaN</td>\n",
       "      <td>NaN</td>\n",
       "      <td>NaN</td>\n",
       "      <td>NaN</td>\n",
       "      <td>-618.130000</td>\n",
       "      <td>-618.130000</td>\n",
       "      <td>2011.000000</td>\n",
       "    </tr>\n",
       "    <tr>\n",
       "      <th>25%</th>\n",
       "      <td>NaN</td>\n",
       "      <td>NaN</td>\n",
       "      <td>NaN</td>\n",
       "      <td>NaN</td>\n",
       "      <td>NaN</td>\n",
       "      <td>NaN</td>\n",
       "      <td>36168.995000</td>\n",
       "      <td>44065.650000</td>\n",
       "      <td>2012.000000</td>\n",
       "    </tr>\n",
       "    <tr>\n",
       "      <th>50%</th>\n",
       "      <td>NaN</td>\n",
       "      <td>NaN</td>\n",
       "      <td>NaN</td>\n",
       "      <td>NaN</td>\n",
       "      <td>NaN</td>\n",
       "      <td>NaN</td>\n",
       "      <td>71426.610000</td>\n",
       "      <td>92404.090000</td>\n",
       "      <td>2013.000000</td>\n",
       "    </tr>\n",
       "    <tr>\n",
       "      <th>75%</th>\n",
       "      <td>NaN</td>\n",
       "      <td>NaN</td>\n",
       "      <td>NaN</td>\n",
       "      <td>NaN</td>\n",
       "      <td>NaN</td>\n",
       "      <td>NaN</td>\n",
       "      <td>105839.135000</td>\n",
       "      <td>132876.450000</td>\n",
       "      <td>2014.000000</td>\n",
       "    </tr>\n",
       "    <tr>\n",
       "      <th>max</th>\n",
       "      <td>NaN</td>\n",
       "      <td>NaN</td>\n",
       "      <td>NaN</td>\n",
       "      <td>NaN</td>\n",
       "      <td>NaN</td>\n",
       "      <td>NaN</td>\n",
       "      <td>567595.430000</td>\n",
       "      <td>567595.430000</td>\n",
       "      <td>2014.000000</td>\n",
       "    </tr>\n",
       "  </tbody>\n",
       "</table>\n",
       "</div>"
      ],
      "text/plain": [
       "       EmployeeName          JobTitle BasePay OvertimePay OtherPay Benefits  \\\n",
       "count        148654            148654  148049      148654   148654   112495   \n",
       "unique       110811              2159  109724       66162    84243    98647   \n",
       "top       Kevin Lee  Transit Operator     0.0         0.0      0.0      0.0   \n",
       "freq             13              7036     872       57868    30068     1024   \n",
       "mean            NaN               NaN     NaN         NaN      NaN      NaN   \n",
       "std             NaN               NaN     NaN         NaN      NaN      NaN   \n",
       "min             NaN               NaN     NaN         NaN      NaN      NaN   \n",
       "25%             NaN               NaN     NaN         NaN      NaN      NaN   \n",
       "50%             NaN               NaN     NaN         NaN      NaN      NaN   \n",
       "75%             NaN               NaN     NaN         NaN      NaN      NaN   \n",
       "max             NaN               NaN     NaN         NaN      NaN      NaN   \n",
       "\n",
       "             TotalPay  TotalPayBenefits           Year  \n",
       "count   148654.000000     148654.000000  148654.000000  \n",
       "unique            NaN               NaN            NaN  \n",
       "top               NaN               NaN            NaN  \n",
       "freq              NaN               NaN            NaN  \n",
       "mean     74768.321972      93692.554811    2012.522643  \n",
       "std      50517.005274      62793.533483       1.117538  \n",
       "min       -618.130000       -618.130000    2011.000000  \n",
       "25%      36168.995000      44065.650000    2012.000000  \n",
       "50%      71426.610000      92404.090000    2013.000000  \n",
       "75%     105839.135000     132876.450000    2014.000000  \n",
       "max     567595.430000     567595.430000    2014.000000  "
      ]
     },
     "execution_count": 9,
     "metadata": {},
     "output_type": "execute_result"
    }
   ],
   "source": [
    "# 7. Get Overall statistics about the dataframe\n",
    "df.describe(include= 'all')"
   ]
  },
  {
   "cell_type": "code",
   "execution_count": 10,
   "id": "ba6cdb96-5c44-4179-b24a-ad937d10f4fc",
   "metadata": {},
   "outputs": [
    {
     "data": {
      "text/plain": [
       "EmployeeName\n",
       "Kevin Lee       13\n",
       "Richard Lee     11\n",
       "Steven Lee      11\n",
       "William Wong    11\n",
       "Stanley Lee      9\n",
       "Name: count, dtype: int64"
      ]
     },
     "execution_count": 10,
     "metadata": {},
     "output_type": "execute_result"
    }
   ],
   "source": [
    "# 8. Find occurrence of the employee names (top 5)\n",
    "df['EmployeeName'].value_counts().head()"
   ]
  },
  {
   "cell_type": "code",
   "execution_count": 11,
   "id": "b575a333-5e9c-42ad-8f7d-0cdeb15009ad",
   "metadata": {},
   "outputs": [
    {
     "data": {
      "text/plain": [
       "2159"
      ]
     },
     "execution_count": 11,
     "metadata": {},
     "output_type": "execute_result"
    }
   ],
   "source": [
    "# 9. Find the number of unique job title\n",
    "df['JobTitle'].nunique()"
   ]
  },
  {
   "cell_type": "code",
   "execution_count": 12,
   "id": "d6ac6d55-3520-4297-8f7b-4d4eaf32e13f",
   "metadata": {},
   "outputs": [
    {
     "data": {
      "text/plain": [
       "141"
      ]
     },
     "execution_count": 12,
     "metadata": {},
     "output_type": "execute_result"
    }
   ],
   "source": [
    "# 10. Total Number of Job titles contain Captain\n",
    "len(df[df['JobTitle'].str.contains('CAPTAIN')])"
   ]
  },
  {
   "cell_type": "code",
   "execution_count": 13,
   "id": "f36d0f98-c331-4c98-8a83-53399fe7441b",
   "metadata": {},
   "outputs": [
    {
     "data": {
      "text/plain": [
       "4            PATRICK GARDNER\n",
       "6                  ALSON LEE\n",
       "8             MICHAEL MORRIS\n",
       "9         JOANNE HAYES-WHITE\n",
       "10             ARTHUR KENNEY\n",
       "                 ...        \n",
       "145956      Kenneth C Farris\n",
       "147556         Edward A Dunn\n",
       "148021        Kari A Johnson\n",
       "148209          Sheryl K Lee\n",
       "148554       Lawrence F Gatt\n",
       "Name: EmployeeName, Length: 5879, dtype: object"
      ]
     },
     "execution_count": 13,
     "metadata": {},
     "output_type": "execute_result"
    }
   ],
   "source": [
    "# 11. Display all the employee names from fire department\n",
    "df[df['JobTitle'].str.contains('fire', case=False)]['EmployeeName']"
   ]
  },
  {
   "cell_type": "code",
   "execution_count": 14,
   "id": "caff7a1d-c411-483d-8a36-31923a56d90f",
   "metadata": {},
   "outputs": [
    {
     "data": {
      "text/plain": [
       "count     148049\n",
       "unique    109724\n",
       "top          0.0\n",
       "freq         872\n",
       "Name: BasePay, dtype: object"
      ]
     },
     "execution_count": 14,
     "metadata": {},
     "output_type": "execute_result"
    }
   ],
   "source": [
    "# 12. Find minimum, maximum and average base pay\n",
    "df['BasePay'].describe()"
   ]
  },
  {
   "cell_type": "code",
   "execution_count": 15,
   "id": "412a7e1b-e15a-40fc-aae4-2dfc9a43e086",
   "metadata": {},
   "outputs": [],
   "source": [
    "# 13. Replace 'Not Provided' in Employee Name to NaN\n",
    "import numpy as np\n",
    "df['EmployeeName'] = df['EmployeeName'].replace('Not provided',np.nan)"
   ]
  },
  {
   "cell_type": "code",
   "execution_count": 16,
   "id": "b6f0a114-f632-4024-9492-e1b2f2d95c49",
   "metadata": {},
   "outputs": [],
   "source": [
    "# 14. Drop the rows having 5 missing values\n",
    "df.drop(df[df.isnull().sum(axis = 1)==5].index, axis = 0, inplace = True)"
   ]
  },
  {
   "cell_type": "code",
   "execution_count": 18,
   "id": "463498bc-3e65-47a4-bc55-31bf6544bb05",
   "metadata": {},
   "outputs": [
    {
     "data": {
      "text/plain": [
       "0         1\n",
       "1         1\n",
       "2         1\n",
       "3         1\n",
       "4         1\n",
       "         ..\n",
       "148649    0\n",
       "148650    1\n",
       "148651    1\n",
       "148652    1\n",
       "148653    0\n",
       "Length: 148654, dtype: int64"
      ]
     },
     "execution_count": 18,
     "metadata": {},
     "output_type": "execute_result"
    }
   ],
   "source": [
    "df.isnull().sum(axis = 1)"
   ]
  },
  {
   "cell_type": "code",
   "execution_count": 22,
   "id": "9d742ab8-d8f0-4628-a010-5d4ca5e2e066",
   "metadata": {},
   "outputs": [
    {
     "data": {
      "text/plain": [
       "2    CAPTAIN III (POLICE DEPARTMENT)\n",
       "Name: JobTitle, dtype: object"
      ]
     },
     "execution_count": 22,
     "metadata": {},
     "output_type": "execute_result"
    }
   ],
   "source": [
    "# 15. Find job title of Albert Pardini\n",
    "df[df['EmployeeName'] == 'ALBERT PARDINI']['JobTitle']"
   ]
  },
  {
   "cell_type": "code",
   "execution_count": 24,
   "id": "bbb25a99-59fe-4266-a64d-f02f2dc1d30d",
   "metadata": {},
   "outputs": [
    {
     "data": {
      "text/plain": [
       "2    335279.91\n",
       "Name: TotalPayBenefits, dtype: float64"
      ]
     },
     "execution_count": 24,
     "metadata": {},
     "output_type": "execute_result"
    }
   ],
   "source": [
    "# 16. How much ALBERT PARDINI make (include benefits) ?\n",
    "df[df['EmployeeName'] == 'ALBERT PARDINI']['TotalPayBenefits']"
   ]
  },
  {
   "cell_type": "code",
   "execution_count": 57,
   "id": "ef389863-2d82-4c5e-af76-43281a6ef257",
   "metadata": {},
   "outputs": [
    {
     "data": {
      "text/plain": [
       "72925    Gregory P Suhr\n",
       "Name: EmployeeName, dtype: object"
      ]
     },
     "execution_count": 57,
     "metadata": {},
     "output_type": "execute_result"
    }
   ],
   "source": [
    "# 17. Display the name of the person having the highest base pay\n",
    "df[df['BasePay'].max() == df['BasePay']]['EmployeeName']"
   ]
  },
  {
   "cell_type": "code",
   "execution_count": 61,
   "id": "195d3b8b-b39a-45e2-90ff-2953849fee2d",
   "metadata": {},
   "outputs": [
    {
     "data": {
      "text/plain": [
       "Year\n",
       "2011    63595.956517\n",
       "2012    65436.406857\n",
       "2013    69630.030216\n",
       "2014    66564.421924\n",
       "Name: BasePay, dtype: float64"
      ]
     },
     "execution_count": 61,
     "metadata": {},
     "output_type": "execute_result"
    }
   ],
   "source": [
    "# 18. Find average base pay for all employees per year\n",
    "df.groupby('Year')['BasePay'].mean()"
   ]
  },
  {
   "cell_type": "code",
   "execution_count": 62,
   "id": "2f1289bc-c0d9-4f9b-9fd6-7026685d8e85",
   "metadata": {},
   "outputs": [
    {
     "data": {
      "text/plain": [
       "JobTitle\n",
       "ACCOUNT CLERK                                     43300.806506\n",
       "ACCOUNTANT                                        46643.172000\n",
       "ACCOUNTANT INTERN                                 28732.663958\n",
       "ACPO,JuvP, Juv Prob (SFERS)                       62290.780000\n",
       "ACUPUNCTURIST                                     66374.400000\n",
       "                                                      ...     \n",
       "X-RAY LABORATORY AIDE                             47664.773077\n",
       "X-Ray Laboratory Aide                             46086.387100\n",
       "YOUTH COMMISSION ADVISOR, BOARD OF SUPERVISORS    52609.910000\n",
       "Youth Comm Advisor                                39077.957500\n",
       "ZOO CURATOR                                       43148.000000\n",
       "Name: BasePay, Length: 2159, dtype: float64"
      ]
     },
     "execution_count": 62,
     "metadata": {},
     "output_type": "execute_result"
    }
   ],
   "source": [
    "# 19. Find average base pay for all employees per job title\n",
    "df.groupby('JobTitle')['BasePay'].mean()"
   ]
  },
  {
   "cell_type": "code",
   "execution_count": 63,
   "id": "ffae0bfa-8a11-4039-a7af-dd62b9245fd1",
   "metadata": {},
   "outputs": [
    {
     "data": {
      "text/plain": [
       "46643.172"
      ]
     },
     "execution_count": 63,
     "metadata": {},
     "output_type": "execute_result"
    }
   ],
   "source": [
    "# 20. Find average base pay of employee having job title ACCOUNTANT\n",
    "df[df['JobTitle'] == 'ACCOUNTANT']['BasePay'].mean()"
   ]
  },
  {
   "cell_type": "code",
   "execution_count": 42,
   "id": "c9e3db6b-2963-4abb-837e-12e57979ca67",
   "metadata": {},
   "outputs": [
    {
     "data": {
      "text/plain": [
       "JobTitle\n",
       "Transit Operator                7036\n",
       "Special Nurse                   4389\n",
       "Registered Nurse                3736\n",
       "Public Svc Aide-Public Works    2518\n",
       "Police Officer 3                2421\n",
       "Name: count, dtype: int64"
      ]
     },
     "execution_count": 42,
     "metadata": {},
     "output_type": "execute_result"
    }
   ],
   "source": [
    "# 21. Find top 5 most common jobs\n",
    "df['JobTitle'].value_counts().head()"
   ]
  },
  {
   "cell_type": "code",
   "execution_count": 52,
   "id": "718b3aef-797e-4aef-ba28-3bbf007dd28b",
   "metadata": {},
   "outputs": [],
   "source": [
    "# Converting basepay column from string to float\n",
    "# step-1 replacing \"not provided\" with nan \n",
    "df['BasePay'] = df['BasePay'].replace('Not Provided',np.nan)"
   ]
  },
  {
   "cell_type": "code",
   "execution_count": 53,
   "id": "e5b32789-2c85-4dad-a01a-b19559ba9c39",
   "metadata": {},
   "outputs": [
    {
     "data": {
      "text/plain": [
       "0         167411.18\n",
       "1         155966.02\n",
       "2         212739.13\n",
       "3           77916.0\n",
       "4          134401.6\n",
       "            ...    \n",
       "148649         0.00\n",
       "148650            0\n",
       "148651            0\n",
       "148652            0\n",
       "148653         0.00\n",
       "Name: BasePay, Length: 148654, dtype: object"
      ]
     },
     "execution_count": 53,
     "metadata": {},
     "output_type": "execute_result"
    }
   ],
   "source": [
    "# step-2 filling nan with 0\n",
    "df['BasePay'].fillna(0)"
   ]
  },
  {
   "cell_type": "code",
   "execution_count": 55,
   "id": "e268e849-6c25-4643-ac48-3c2a815b0507",
   "metadata": {},
   "outputs": [],
   "source": [
    "# step-3 Converting base pay column to numeric\n",
    "df['BasePay'] = pd.to_numeric(df['BasePay'], errors = 'coerce')"
   ]
  },
  {
   "cell_type": "code",
   "execution_count": 56,
   "id": "e1f1cb5a-2902-49bb-b825-1f58d8051fb2",
   "metadata": {},
   "outputs": [
    {
     "data": {
      "text/plain": [
       "dtype('float64')"
      ]
     },
     "execution_count": 56,
     "metadata": {},
     "output_type": "execute_result"
    }
   ],
   "source": [
    "# step-4 checking datatype\n",
    "df['BasePay'].dtypes"
   ]
  },
  {
   "cell_type": "code",
   "execution_count": null,
   "id": "4d2ef2c2-39c4-468f-b098-4fa10d41ffaf",
   "metadata": {},
   "outputs": [],
   "source": []
  },
  {
   "cell_type": "code",
   "execution_count": null,
   "id": "7a669139-9bb6-47d0-9184-ba470e54b027",
   "metadata": {},
   "outputs": [],
   "source": []
  },
  {
   "cell_type": "code",
   "execution_count": null,
   "id": "8f7ba775-61cd-49f0-88f8-04d8e0df8837",
   "metadata": {},
   "outputs": [],
   "source": []
  },
  {
   "cell_type": "code",
   "execution_count": null,
   "id": "f20cdf26-9d2e-46a2-aade-5f46408af737",
   "metadata": {},
   "outputs": [],
   "source": []
  },
  {
   "cell_type": "code",
   "execution_count": null,
   "id": "26f45924-5638-4212-9d5b-54cb8b4bb7b2",
   "metadata": {},
   "outputs": [],
   "source": []
  },
  {
   "cell_type": "code",
   "execution_count": null,
   "id": "d116ee2e-4ae4-44bc-b850-fc7fdcc38ebe",
   "metadata": {},
   "outputs": [],
   "source": []
  },
  {
   "cell_type": "code",
   "execution_count": null,
   "id": "cbb74fb9-c3c2-4708-8a53-94a2ba857611",
   "metadata": {},
   "outputs": [],
   "source": []
  },
  {
   "cell_type": "code",
   "execution_count": null,
   "id": "2296ad45-5590-4286-8122-ef9f5e802dea",
   "metadata": {},
   "outputs": [],
   "source": []
  },
  {
   "cell_type": "code",
   "execution_count": null,
   "id": "d3417fc7-1a54-46f5-8647-f1c0afc75209",
   "metadata": {},
   "outputs": [],
   "source": []
  },
  {
   "cell_type": "code",
   "execution_count": null,
   "id": "7f7b1221-261f-4b29-ba1a-3be7b459dd55",
   "metadata": {},
   "outputs": [],
   "source": []
  },
  {
   "cell_type": "code",
   "execution_count": null,
   "id": "729b5f26-eecf-4c58-9c39-fd27b0cf8f8f",
   "metadata": {},
   "outputs": [],
   "source": []
  },
  {
   "cell_type": "code",
   "execution_count": null,
   "id": "cbcd3188-4f96-4e17-88d7-524683ce1212",
   "metadata": {},
   "outputs": [],
   "source": []
  },
  {
   "cell_type": "code",
   "execution_count": null,
   "id": "ddf4c6dd-9252-4159-942f-ae4e4a4ff50c",
   "metadata": {},
   "outputs": [],
   "source": []
  },
  {
   "cell_type": "code",
   "execution_count": null,
   "id": "03995cac-a6db-4045-af10-0727b3110543",
   "metadata": {},
   "outputs": [],
   "source": []
  },
  {
   "cell_type": "code",
   "execution_count": null,
   "id": "ef3925f7-75fd-4467-98d1-ac44b2b13677",
   "metadata": {},
   "outputs": [],
   "source": []
  },
  {
   "cell_type": "code",
   "execution_count": null,
   "id": "729bc314-e8d8-41d7-9a6b-bcc57e340342",
   "metadata": {},
   "outputs": [],
   "source": []
  },
  {
   "cell_type": "code",
   "execution_count": null,
   "id": "8281652f-e469-4947-b449-0cee9dfb55b8",
   "metadata": {},
   "outputs": [],
   "source": []
  },
  {
   "cell_type": "code",
   "execution_count": null,
   "id": "381c799a-0ce4-4279-81ec-6d14aa9d1f7d",
   "metadata": {},
   "outputs": [],
   "source": []
  },
  {
   "cell_type": "code",
   "execution_count": null,
   "id": "4e9a5047-4a6a-4ef2-911b-924e3d4e39f4",
   "metadata": {},
   "outputs": [],
   "source": []
  },
  {
   "cell_type": "code",
   "execution_count": null,
   "id": "3ebc662d-275c-43ab-bc46-d8ce14fcbe19",
   "metadata": {},
   "outputs": [],
   "source": []
  },
  {
   "cell_type": "code",
   "execution_count": null,
   "id": "6e035ce3-b46d-415a-a160-34a5c1f5ba38",
   "metadata": {},
   "outputs": [],
   "source": []
  },
  {
   "cell_type": "code",
   "execution_count": null,
   "id": "2830218f-32a9-4caf-ad51-f3fc2ce0d5e0",
   "metadata": {},
   "outputs": [],
   "source": []
  },
  {
   "cell_type": "code",
   "execution_count": null,
   "id": "8bf34594-6323-4439-bda7-b55e3301b2bf",
   "metadata": {},
   "outputs": [],
   "source": []
  },
  {
   "cell_type": "code",
   "execution_count": null,
   "id": "30912ab1-7092-48b6-9ffb-dc594dde14dd",
   "metadata": {},
   "outputs": [],
   "source": []
  },
  {
   "cell_type": "code",
   "execution_count": null,
   "id": "fcac3482-4104-4c5e-87eb-1e3b1f5a895a",
   "metadata": {},
   "outputs": [],
   "source": []
  },
  {
   "cell_type": "code",
   "execution_count": null,
   "id": "3edae85e-a401-4798-adde-19c8a315e89f",
   "metadata": {},
   "outputs": [],
   "source": []
  },
  {
   "cell_type": "code",
   "execution_count": null,
   "id": "eee1c775-b33f-4ff9-a5b2-7f8f7ca31186",
   "metadata": {},
   "outputs": [],
   "source": []
  },
  {
   "cell_type": "code",
   "execution_count": null,
   "id": "be149229-5b99-4052-8132-14e7613f7e94",
   "metadata": {},
   "outputs": [],
   "source": []
  },
  {
   "cell_type": "code",
   "execution_count": null,
   "id": "d6e91b7c-00ee-4acf-b9c7-d9bb8a80e737",
   "metadata": {},
   "outputs": [],
   "source": []
  },
  {
   "cell_type": "code",
   "execution_count": null,
   "id": "0ab0b26d-eb91-4609-a90d-c59b7c31d092",
   "metadata": {},
   "outputs": [],
   "source": []
  },
  {
   "cell_type": "code",
   "execution_count": null,
   "id": "5e5a12c0-bb1e-4092-a4b0-9aa15ef8b469",
   "metadata": {},
   "outputs": [],
   "source": []
  },
  {
   "cell_type": "code",
   "execution_count": null,
   "id": "bf85157b-3214-4826-9eaf-da1c5e7aedbd",
   "metadata": {},
   "outputs": [],
   "source": []
  },
  {
   "cell_type": "code",
   "execution_count": null,
   "id": "1ea49c27-5140-4d8c-9fe9-948a2a4a2341",
   "metadata": {},
   "outputs": [],
   "source": []
  },
  {
   "cell_type": "code",
   "execution_count": null,
   "id": "ae76f323-853b-4643-8f55-2422e48c5abd",
   "metadata": {},
   "outputs": [],
   "source": []
  }
 ],
 "metadata": {
  "kernelspec": {
   "display_name": "Python 3 (ipykernel)",
   "language": "python",
   "name": "python3"
  },
  "language_info": {
   "codemirror_mode": {
    "name": "ipython",
    "version": 3
   },
   "file_extension": ".py",
   "mimetype": "text/x-python",
   "name": "python",
   "nbconvert_exporter": "python",
   "pygments_lexer": "ipython3",
   "version": "3.11.7"
  }
 },
 "nbformat": 4,
 "nbformat_minor": 5
}
